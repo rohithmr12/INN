{
 "cells": [
  {
   "cell_type": "code",
   "execution_count": 1,
   "metadata": {},
   "outputs": [
    {
     "name": "stdout",
     "output_type": "stream",
     "text": [
      "Inputs: [0.30752805 0.35952019 0.83357619 0.91828368 0.93256417]\n",
      "Weights: [0.25609001 0.50689444 0.90485724 0.01121772 0.86326966]\n",
      "Bias: 0.3036476855245368\n",
      "Output: 0.8941891429914564\n"
     ]
    }
   ],
   "source": [
    "import numpy as np\n",
    "\n",
    "class Neuron:\n",
    "\n",
    "    def __init__(self, input_size):\n",
    "        self.weights = np.random.rand(input_size)\n",
    "        self.bias = np.random.rand()\n",
    "\n",
    "    def sigmoid(self, x):\n",
    "        return 1 / (1 + np.exp(-x))\n",
    "\n",
    "    def forward(self, inputs):\n",
    "        weighted_sum = np.dot(inputs, self.weights) + self.bias\n",
    "        output = self.sigmoid(weighted_sum)\n",
    "        return output\n",
    "\n",
    "# Example usage\n",
    "input_size = int(input(\"Enter input size: \"))\n",
    "neuron = Neuron(input_size)\n",
    "\n",
    "inputs = np.random.rand(input_size)\n",
    "output = neuron.forward(inputs)\n",
    "\n",
    "print(f\"Inputs: {inputs}\")\n",
    "print(f\"Weights: {neuron.weights}\")\n",
    "print(f\"Bias: {neuron.bias}\")\n",
    "print(f\"Output: {output}\")\n"
   ]
  }
 ],
 "metadata": {
  "kernelspec": {
   "display_name": "Python 3",
   "language": "python",
   "name": "python3"
  },
  "language_info": {
   "codemirror_mode": {
    "name": "ipython",
    "version": 3
   },
   "file_extension": ".py",
   "mimetype": "text/x-python",
   "name": "python",
   "nbconvert_exporter": "python",
   "pygments_lexer": "ipython3",
   "version": "3.11.7"
  }
 },
 "nbformat": 4,
 "nbformat_minor": 2
}
