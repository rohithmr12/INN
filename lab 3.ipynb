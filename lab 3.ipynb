{
 "cells": [
  {
   "cell_type": "code",
   "execution_count": 2,
   "metadata": {},
   "outputs": [],
   "source": [
    "import pandas as pd\n",
    "import numpy as np"
   ]
  },
  {
   "cell_type": "code",
   "execution_count": 5,
   "metadata": {},
   "outputs": [],
   "source": [
    "def sigmoid(x):\n",
    "    1/(1+np.exp**(-x))\n",
    "def sigmoid_derivative(x):\n",
    "    return x * (1 - x)"
   ]
  },
  {
   "cell_type": "code",
   "execution_count": 9,
   "metadata": {},
   "outputs": [
    {
     "name": "stdout",
     "output_type": "stream",
     "text": [
      "Input Data:\n",
      "[[0.37454012 0.95071431 0.73199394 0.59865848 0.15601864]\n",
      " [0.15599452 0.05808361 0.86617615 0.60111501 0.70807258]\n",
      " [0.02058449 0.96990985 0.83244264 0.21233911 0.18182497]\n",
      " [0.18340451 0.30424224 0.52475643 0.43194502 0.29122914]\n",
      " [0.61185289 0.13949386 0.29214465 0.36636184 0.45606998]]\n",
      "\n",
      "Output Data:\n",
      "[[0.69816171 0.53609637 0.30952762]\n",
      " [0.81379502 0.68473117 0.16261694]\n",
      " [0.91092718 0.82253724 0.94979991]\n",
      " [0.72571951 0.6134152  0.41824304]\n",
      " [0.93272848 0.86606389 0.04521867]]\n"
     ]
    },
    {
     "ename": "ValueError",
     "evalue": "shapes (100,5) and (7,5) not aligned: 5 (dim 1) != 7 (dim 0)",
     "output_type": "error",
     "traceback": [
      "\u001b[1;31m---------------------------------------------------------------------------\u001b[0m",
      "\u001b[1;31mValueError\u001b[0m                                Traceback (most recent call last)",
      "Cell \u001b[1;32mIn[9], line 55\u001b[0m\n\u001b[0;32m     53\u001b[0m \u001b[38;5;66;03m# Create and train the neural network\u001b[39;00m\n\u001b[0;32m     54\u001b[0m model \u001b[38;5;241m=\u001b[39m nn(input_size, hidden_size, output_size)\n\u001b[1;32m---> 55\u001b[0m model\u001b[38;5;241m.\u001b[39mtrain(input_data, output_data, epochs\u001b[38;5;241m=\u001b[39m\u001b[38;5;241m10000\u001b[39m, learning_rate\u001b[38;5;241m=\u001b[39m\u001b[38;5;241m0.1\u001b[39m)\n\u001b[0;32m     57\u001b[0m \u001b[38;5;66;03m# Test the trained model\u001b[39;00m\n\u001b[0;32m     58\u001b[0m predictions \u001b[38;5;241m=\u001b[39m model\u001b[38;5;241m.\u001b[39mforward(input_data)\n",
      "Cell \u001b[1;32mIn[9], line 33\u001b[0m, in \u001b[0;36mnn.train\u001b[1;34m(self, inputs, targets, epochs, learning_rate)\u001b[0m\n\u001b[0;32m     31\u001b[0m \u001b[38;5;28;01mdef\u001b[39;00m \u001b[38;5;21mtrain\u001b[39m(\u001b[38;5;28mself\u001b[39m, inputs, targets, epochs, learning_rate):\n\u001b[0;32m     32\u001b[0m     \u001b[38;5;28;01mfor\u001b[39;00m epoch \u001b[38;5;129;01min\u001b[39;00m \u001b[38;5;28mrange\u001b[39m(epochs):\n\u001b[1;32m---> 33\u001b[0m         predictions \u001b[38;5;241m=\u001b[39m \u001b[38;5;28mself\u001b[39m\u001b[38;5;241m.\u001b[39mforward(inputs)\n\u001b[0;32m     34\u001b[0m         \u001b[38;5;28mself\u001b[39m\u001b[38;5;241m.\u001b[39mbackward(inputs, targets, learning_rate)\n\u001b[0;32m     36\u001b[0m         \u001b[38;5;28;01mif\u001b[39;00m epoch \u001b[38;5;241m%\u001b[39m \u001b[38;5;241m100\u001b[39m \u001b[38;5;241m==\u001b[39m \u001b[38;5;241m0\u001b[39m:\n",
      "Cell \u001b[1;32mIn[9], line 11\u001b[0m, in \u001b[0;36mnn.forward\u001b[1;34m(self, inputs)\u001b[0m\n\u001b[0;32m     10\u001b[0m \u001b[38;5;28;01mdef\u001b[39;00m \u001b[38;5;21mforward\u001b[39m(\u001b[38;5;28mself\u001b[39m,inputs):\n\u001b[1;32m---> 11\u001b[0m     \u001b[38;5;28mself\u001b[39m\u001b[38;5;241m.\u001b[39mhidden_input \u001b[38;5;241m=\u001b[39m np\u001b[38;5;241m.\u001b[39mdot(inputs, \u001b[38;5;28mself\u001b[39m\u001b[38;5;241m.\u001b[39mweights_hidden) \u001b[38;5;241m+\u001b[39m \u001b[38;5;28mself\u001b[39m\u001b[38;5;241m.\u001b[39mbias_hidden\n\u001b[0;32m     12\u001b[0m     \u001b[38;5;28mself\u001b[39m\u001b[38;5;241m.\u001b[39mhidden_output \u001b[38;5;241m=\u001b[39m sigmoid(\u001b[38;5;28mself\u001b[39m\u001b[38;5;241m.\u001b[39mhidden_input)\n\u001b[0;32m     14\u001b[0m     \u001b[38;5;66;03m# Hidden to output layer\u001b[39;00m\n",
      "File \u001b[1;32m<__array_function__ internals>:200\u001b[0m, in \u001b[0;36mdot\u001b[1;34m(*args, **kwargs)\u001b[0m\n",
      "\u001b[1;31mValueError\u001b[0m: shapes (100,5) and (7,5) not aligned: 5 (dim 1) != 7 (dim 0)"
     ]
    }
   ],
   "source": [
    "class nn():\n",
    "    def __init__(self,hidden,input,output):\n",
    "        self.input=input\n",
    "        self.hidden=hidden\n",
    "        self.output=output\n",
    "        self.weights_hidden=np.random.rand(self.input,self.hidden)\n",
    "        self.weights_output=np.random.rand(self.hidden,self.output)\n",
    "        self.bias_hidden = np.zeros((1, self.hidden))\n",
    "        self.bias_output = np.zeros((1, self.output))\n",
    "    def forward(self,inputs):\n",
    "        self.hidden_input = np.dot(inputs, self.weights_hidden) + self.bias_hidden\n",
    "        self.hidden_output = sigmoid(self.hidden_input)\n",
    "\n",
    "        # Hidden to output layer\n",
    "        self.output_input = np.dot(self.hidden, self.weights_output) + self.bias_output\n",
    "        self.predictions = sigmoid(self.output_input)\n",
    "\n",
    "        return self.predictions\n",
    "    def backward(self, inputs, targets, learning_rate):\n",
    "        \n",
    "        output_error = targets - self.predictions\n",
    "        output_delta = output_error * sigmoid_derivative(self.predictions)\n",
    "\n",
    "        hidden_error = output_delta.dot(self.weights_hidden_output.T)\n",
    "        hidden_delta = hidden_error * sigmoid_derivative(self.hidden_output)\n",
    "\n",
    "        self.weights_hidden_output += self.hidden_output.T.dot(output_delta) * learning_rate\n",
    "        self.bias_output += np.sum(output_delta, axis=0, keepdims=True) * learning_rate\n",
    "        self.weights_input_hidden += inputs.T.dot(hidden_delta) * learning_rate\n",
    "        self.bias_hidden += np.sum(hidden_delta, axis=0, keepdims=True) * learning_rate\n",
    "    def train(self, inputs, targets, epochs, learning_rate):\n",
    "        for epoch in range(epochs):\n",
    "            predictions = self.forward(inputs)\n",
    "            self.backward(inputs, targets, learning_rate)\n",
    "\n",
    "            if epoch % 100 == 0:\n",
    "                loss = np.mean(np.square(targets - predictions) / 2)\n",
    "                print(f'Epoch {epoch}, Loss: {loss}')    \n",
    "np.random.seed(42)\n",
    "num_samples = 100\n",
    "input_data = np.random.rand(num_samples, 5)\n",
    "output_data = np.random.rand(num_samples, 3)\n",
    "\n",
    "print(\"Input Data:\")\n",
    "print(input_data[:5])\n",
    "print(\"\\nOutput Data:\")\n",
    "print(output_data[:5])\n",
    "\n",
    "input_size = 5\n",
    "hidden_size = 7\n",
    "output_size = 3\n",
    "\n",
    "# Create and train the neural network\n",
    "model = nn(input_size, hidden_size, output_size)\n",
    "model.train(input_data, output_data, epochs=10000, learning_rate=0.1)\n",
    "\n",
    "# Test the trained model\n",
    "predictions = model.forward(input_data)\n",
    "print(\"Predictions after training:\")\n",
    "print(predictions)\n",
    "        "
   ]
  }
 ],
 "metadata": {
  "kernelspec": {
   "display_name": "Python 3",
   "language": "python",
   "name": "python3"
  },
  "language_info": {
   "codemirror_mode": {
    "name": "ipython",
    "version": 3
   },
   "file_extension": ".py",
   "mimetype": "text/x-python",
   "name": "python",
   "nbconvert_exporter": "python",
   "pygments_lexer": "ipython3",
   "version": "3.11.3"
  }
 },
 "nbformat": 4,
 "nbformat_minor": 2
}
